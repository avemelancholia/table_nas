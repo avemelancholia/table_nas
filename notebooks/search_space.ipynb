{
 "cells": [
  {
   "cell_type": "code",
   "execution_count": 4,
   "id": "2a7fa0db-3f3a-4a77-80f0-30b154d61b97",
   "metadata": {},
   "outputs": [],
   "source": [
    "from naslib.search_spaces.core import Graph"
   ]
  },
  {
   "cell_type": "code",
   "execution_count": 5,
   "id": "632db49f-1d96-485f-95f8-30f2bc016128",
   "metadata": {},
   "outputs": [
    {
     "data": {
      "text/plain": [
       "naslib.search_spaces.core.graph.Graph"
      ]
     },
     "execution_count": 5,
     "metadata": {},
     "output_type": "execute_result"
    }
   ],
   "source": [
    "Graph"
   ]
  },
  {
   "cell_type": "code",
   "execution_count": null,
   "id": "58e11a04-8a8a-4602-a84c-7114ef765608",
   "metadata": {},
   "outputs": [],
   "source": []
  }
 ],
 "metadata": {
  "kernelspec": {
   "display_name": "Python 3 (ipykernel)",
   "language": "python",
   "name": "python3"
  },
  "language_info": {
   "codemirror_mode": {
    "name": "ipython",
    "version": 3
   },
   "file_extension": ".py",
   "mimetype": "text/x-python",
   "name": "python",
   "nbconvert_exporter": "python",
   "pygments_lexer": "ipython3",
   "version": "3.7.16"
  }
 },
 "nbformat": 4,
 "nbformat_minor": 5
}
