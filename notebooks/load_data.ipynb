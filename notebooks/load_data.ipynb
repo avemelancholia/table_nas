{
 "cells": [
  {
   "cell_type": "code",
   "execution_count": 56,
   "id": "9b5084e0-917f-4972-8791-bf2902e800de",
   "metadata": {},
   "outputs": [],
   "source": [
    "import numpy as np\n",
    "import json\n",
    "\n",
    "from pathlib import Path\n",
    "from matplotlib import pyplot as plt\n",
    "from torch.utils.data import Dataset\n"
   ]
  },
  {
   "cell_type": "code",
   "execution_count": 37,
   "id": "f35014bf-5b38-4e0e-b076-4991092ea9c5",
   "metadata": {},
   "outputs": [],
   "source": [
    "root_dir = Path('/mnt/v/files/data/')\n",
    "name = 'microsoft'"
   ]
  },
  {
   "cell_type": "code",
   "execution_count": 10,
   "id": "68f29c01-73bf-42c8-bb87-18db02c234d7",
   "metadata": {},
   "outputs": [
    {
     "name": "stdout",
     "output_type": "stream",
     "text": [
      "/mnt/v/files/data\n"
     ]
    },
    {
     "name": "stderr",
     "output_type": "stream",
     "text": [
      "/home/avemelan/miniconda3/lib/python3.11/site-packages/IPython/core/magics/osm.py:417: UserWarning: using dhist requires you to install the `pickleshare` library.\n",
      "  self.shell.db['dhist'] = compress_dhist(dhist)[-100:]\n"
     ]
    }
   ],
   "source": [
    "cd /mnt/v/files/data/"
   ]
  },
  {
   "cell_type": "code",
   "execution_count": 11,
   "id": "c43a3168-c10f-4259-82c2-3c37498c8a3d",
   "metadata": {},
   "outputs": [
    {
     "name": "stdout",
     "output_type": "stream",
     "text": [
      "READY            X_bin_val.npy    X_num_val.npy  Y_val.npy\n",
      "X_bin_test.npy   X_num_test.npy   Y_test.npy     info.json\n",
      "X_bin_train.npy  X_num_train.npy  Y_train.npy\n"
     ]
    }
   ],
   "source": [
    "ls/"
   ]
  },
  {
   "cell_type": "code",
   "execution_count": 62,
   "id": "df8c9c38-d9ad-4c19-9d6b-094c99c0fadb",
   "metadata": {},
   "outputs": [],
   "source": [
    "class NasDataset(Dataset):\n",
    "    def __init__(self, root_dir, name, type, norm='min_max'):\n",
    "        super().__init__()\n",
    "        assert type in ['train', 'test', 'val']\n",
    "\n",
    "        self.root_dir = root_dir \n",
    "        self.name = name\n",
    "        self.type = type\n",
    "\n",
    "        x_num = f'X_num_{type}.npy'\n",
    "        x_bin = f'X_bin_{type}.npy'\n",
    "        y = f'Y_{type}.npy'\n",
    "        \n",
    "        self.x_num = np.load(root_dir / name / x_num)\n",
    "        self.x_bin = np.load(root_dir / name / x_bin)\n",
    "        self.y = np.load(root_dir / name / y)\n",
    "\n",
    "        if norm == 'min_max':\n",
    "            self.x_num = (self.x_num - np.min(self.x_num, axis=0)) / (np.max(self.x_num, axis=0) - np.min(self.x_num, axis=0))\n",
    "            self.x_bin = (self.x_bin - np.min(self.x_bin, axis=0)) / (np.max(self.x_bin, axis=0) - np.min(self.x_bin, axis=0))\n",
    "\n",
    "            self.y = (self.y - np.min(self.y, axis=0)) / (np.max(self.y, axis=0) - np.min(self.y, axis=0))\n",
    "\n",
    "    def __getitem__(self, i):\n",
    "        return self.x_num[i], self.x_bin[i], self.y[i]\n",
    "        \n",
    "    def __len__(self):\n",
    "        return len(self.x)\n",
    "    \n",
    "ds = NasDataset(root_dir, name, 'train')"
   ]
  },
  {
   "cell_type": "code",
   "execution_count": null,
   "id": "21df1455-5228-4014-8a22-0e42317c12ac",
   "metadata": {},
   "outputs": [],
   "source": []
  },
  {
   "cell_type": "code",
   "execution_count": null,
   "id": "b14acdf9-1300-4439-a53a-75adb0c106ce",
   "metadata": {},
   "outputs": [],
   "source": []
  }
 ],
 "metadata": {
  "kernelspec": {
   "display_name": "Python 3 (ipykernel)",
   "language": "python",
   "name": "python3"
  },
  "language_info": {
   "codemirror_mode": {
    "name": "ipython",
    "version": 3
   },
   "file_extension": ".py",
   "mimetype": "text/x-python",
   "name": "python",
   "nbconvert_exporter": "python",
   "pygments_lexer": "ipython3",
   "version": "3.7.16"
  }
 },
 "nbformat": 4,
 "nbformat_minor": 5
}
